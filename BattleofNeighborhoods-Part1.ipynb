{
 "cells": [
  {
   "cell_type": "markdown",
   "metadata": {},
   "source": [
    "# IBM Data Science Applied Capstone Project"
   ]
  },
  {
   "cell_type": "markdown",
   "metadata": {},
   "source": [
    "## Battle of Neighborhoods - Part 1"
   ]
  },
  {
   "cell_type": "markdown",
   "metadata": {},
   "source": [
    "## Business Problem"
   ]
  },
  {
   "cell_type": "markdown",
   "metadata": {},
   "source": [
    "Relocation is always a difficult task when we have to select between the cities. It is always a good idea to gather some information about the place you are planning to move and check if it is similar to your liking. Some initial survey greatly helps in taking the decision of whether should consider moving to that place or not. Everyone has a different criteria to define the best place they want to live in. for example- Best schools nearby, low crime rate, housing prices etc.\n",
    "\n",
    "The city under consideration for analysis is San Diego CA. San Diego is a city in the U.S. state of California. It is in San Diego County, on the coast of the Pacific Ocean in Southern California, approximately 120 miles south of Los Angeles and immediately adjacent to the border with Mexico. San Diego has been called \"the birthplace of California\". San Diego is the eighth-largest city in the United States and second-largest in California.\n",
    "\n"
   ]
  },
  {
   "cell_type": "markdown",
   "metadata": {},
   "source": [
    "## Proposed Approach:"
   ]
  },
  {
   "cell_type": "markdown",
   "metadata": {},
   "source": [
    "We are going to analyze following factors that will give us a general idea about the city of San Diego. \n",
    "\n",
    "1.\tGeography\n",
    "2.\tDemographics\n",
    "3.\tCrime Rate \n",
    "4.\tNeighborhood Exploration\n"
   ]
  },
  {
   "cell_type": "markdown",
   "metadata": {},
   "source": [
    "## Datasets: "
   ]
  },
  {
   "cell_type": "markdown",
   "metadata": {},
   "source": [
    "1.\thttps://en.wikipedia.org/wiki/San_Diego\n",
    "2.\thttps://www.sandag.org/index.asp?classid=14&subclassid=21&projectid=446&fuseaction=projects.detail\n",
    "3.\thttps://simplemaps.com/data/us-cities\n",
    "\n"
   ]
  },
  {
   "cell_type": "markdown",
   "metadata": {},
   "source": [
    "The data from above datasets will be used for analysis of the major components involved in making the relocation decision . It will give us an insights about the population distribution, Crime rate statistics, and exploration of the neighborhood."
   ]
  },
  {
   "cell_type": "markdown",
   "metadata": {},
   "source": [
    "## Objective of Analysis:"
   ]
  },
  {
   "cell_type": "markdown",
   "metadata": {},
   "source": [
    "The goal is to help people who are considering moving to San Diego and help them in deciding whether the city is similar to their liking or not and if it interests them enough to settle in ."
   ]
  },
  {
   "cell_type": "code",
   "execution_count": null,
   "metadata": {},
   "outputs": [],
   "source": []
  }
 ],
 "metadata": {
  "kernelspec": {
   "display_name": "Python 3",
   "language": "python",
   "name": "python3"
  },
  "language_info": {
   "codemirror_mode": {
    "name": "ipython",
    "version": 3
   },
   "file_extension": ".py",
   "mimetype": "text/x-python",
   "name": "python",
   "nbconvert_exporter": "python",
   "pygments_lexer": "ipython3",
   "version": "3.5.5"
  }
 },
 "nbformat": 4,
 "nbformat_minor": 2
}
